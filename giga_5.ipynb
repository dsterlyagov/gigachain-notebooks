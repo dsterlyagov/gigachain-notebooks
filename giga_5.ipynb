{
 "cells": [
  {
   "cell_type": "code",
   "execution_count": 2,
   "metadata": {},
   "outputs": [],
   "source": [
    "\n",
    "from getpass import getpass\n",
    "from langchain.chat_models.gigachat import GigaChat"
   ]
  },
  {
   "cell_type": "code",
   "execution_count": 3,
   "metadata": {},
   "outputs": [],
   "source": [
    "#gigachat_api_key = getpass(prompt='YzZmOGRmMzktOGI1Zi00MmZlLWFjYjEtOWQ2OTc0NjRiN2VlOjVlNDk2MWJiLTJmYjAtNGRjNS04ODkwLTRhNzcyOWVlMjNjNw==')\n",
    "gigachat_api_key = 'YzZmOGRmMzktOGI1Zi00MmZlLWFjYjEtOWQ2OTc0NjRiN2VlOjVlNDk2MWJiLTJmYjAtNGRjNS04ODkwLTRhNzcyOWVlMjNjNw=='"
   ]
  },
  {
   "cell_type": "code",
   "execution_count": 4,
   "metadata": {},
   "outputs": [],
   "source": [
    "\n",
    "# Инициализируем языковую модель GigaChat\n",
    "# verify_ssl_certs=False – без использования сертификатов Минцифры\n",
    "llm = GigaChat(credentials=gigachat_api_key, verify_ssl_certs=False, temperature=0.01)"
   ]
  },
  {
   "cell_type": "code",
   "execution_count": null,
   "outputs": [],
   "source": [
    "from PyPDF2 import PdfReader\n",
    "from langchain.text_splitter import RecursiveCharacterTextSplitter\n",
    "import os\n",
    "from langchain.vectorstores import FAISS"
   ],
   "metadata": {
    "collapsed": false,
    "pycharm": {
     "name": "#%%\n"
    }
   }
  },
  {
   "cell_type": "code",
   "execution_count": null,
   "outputs": [],
   "source": [
    "def get_pdf_text(pdf_docs):\n",
    "  reader = PdfReader(pdf_file)\n",
    "  text = \"\"\n",
    "  for page in reader.pages:\n",
    "    text += page.extract_text()\n",
    "  return text\n",
    "\n",
    "def get_text_chunks(text):\n",
    "    text_splitter = RecursiveCharacterTextSplitter(chunk_size=1000, chunk_overlap=200)\n",
    "    chunks = text_splitter.split_text(text)\n",
    "    return chunks"
   ],
   "metadata": {
    "collapsed": false,
    "pycharm": {
     "name": "#%%\n"
    }
   }
  },
  {
   "cell_type": "code",
   "execution_count": null,
   "outputs": [],
   "source": [
    "pdf_file = \"fstek239.pdf\"\n",
    "load = get_pdf_text(pdf_file)"
   ],
   "metadata": {
    "collapsed": false,
    "pycharm": {
     "name": "#%%\n"
    }
   }
  },
  {
   "cell_type": "code",
   "execution_count": null,
   "outputs": [],
   "source": [
    "chunk = get_text_chunks(load)"
   ],
   "metadata": {
    "collapsed": false,
    "pycharm": {
     "name": "#%%\n"
    }
   }
  },
  {
   "cell_type": "code",
   "execution_count": null,
   "outputs": [],
   "source": [
    "print(f\"Total documents: {len(chunk)}\")"
   ],
   "metadata": {
    "collapsed": false,
    "pycharm": {
     "name": "#%%\n"
    }
   }
  },
  {
   "cell_type": "code",
   "execution_count": null,
   "outputs": [],
   "source": [
    "\n",
    "from langchain_community.embeddings import HuggingFaceEmbeddings\n",
    "from langchain_community.vectorstores import FAISS"
   ],
   "metadata": {
    "collapsed": false,
    "pycharm": {
     "name": "#%%\n"
    }
   }
  },
  {
   "cell_type": "code",
   "execution_count": null,
   "outputs": [],
   "source": [
    "# Если у вас нет видеокарты, укажите 'device': 'cpu'\n",
    "hf_embeddings_model = HuggingFaceEmbeddings(\n",
    "        model_name=\"cointegrated/LaBSE-en-ru\",\n",
    "        model_kwargs={\"device\": \"cpu\"}\n",
    "    )\n",
    "\n",
    "# Создаем FAISS индекс (базу векторов) с полученными эмбеддингами\n",
    "db = FAISS.from_texts(chunk, hf_embeddings_model)"
   ],
   "metadata": {
    "collapsed": false,
    "pycharm": {
     "name": "#%%\n"
    }
   }
  },
  {
   "cell_type": "code",
   "execution_count": null,
   "outputs": [],
   "source": [
    "\n",
    "from langchain.prompts import PromptTemplate\n",
    "from langchain_core.runnables import RunnablePassthrough\n",
    "from langchain.schema import StrOutputParser\n",
    "import re"
   ],
   "metadata": {
    "collapsed": false,
    "pycharm": {
     "name": "#%%\n"
    }
   }
  },
  {
   "cell_type": "code",
   "execution_count": null,
   "outputs": [],
   "source": [
    "# Создаём простой шаблон\n",
    "template = \"\"\"\n",
    "Answer the question based only on the following context: {context}\n",
    "\n",
    "Question: {question}\n",
    "\"\"\""
   ],
   "metadata": {
    "collapsed": false,
    "pycharm": {
     "name": "#%%\n"
    }
   }
  },
  {
   "cell_type": "code",
   "execution_count": null,
   "outputs": [],
   "source": [
    "# Создаём промпт из шаблона\n",
    "prompt = PromptTemplate(template=template, input_variables=[\"question\"])\n",
    "\n",
    "# Объявляем функцию, которая будет собирать строку из полученных документов\n",
    "def format_docs(docs):\n",
    "    return \"\\n\\n\".join([d.page_content for d in docs])\n"
   ],
   "metadata": {
    "collapsed": false,
    "pycharm": {
     "name": "#%%\n"
    }
   }
  },
  {
   "cell_type": "code",
   "execution_count": null,
   "outputs": [],
   "source": [
    "# Задаем ретривер\n",
    "retriever=db.as_retriever()\n",
    "\n",
    "# Создаём цепочку\n",
    "chain = (\n",
    "    {\"context\": retriever | format_docs, \"question\": RunnablePassthrough()}\n",
    "    | prompt\n",
    "    | llm\n",
    "    | StrOutputParser()\n",
    ")\n",
    "    "
   ],
   "metadata": {
    "collapsed": false,
    "pycharm": {
     "name": "#%%\n"
    }
   }
  },
  {
   "cell_type": "code",
   "execution_count": null,
   "outputs": [],
   "source": [
    "message = chain.invoke(\"В составе ЗОКИИ имеется котельная, состоящая из ПЛК и АРМ. Каким образом необходимо выполнять требования приказа ФСТЭК России № 239, если установка наложенных СрЗИ невозможна?\")\n",
    "print(message)"
   ],
   "metadata": {
    "collapsed": false,
    "pycharm": {
     "name": "#%%\n"
    }
   }
  },
  {
   "cell_type": "markdown",
   "source": [
    "## Пример ответа модели с уточняющим вопросом после ответа"
   ],
   "metadata": {
    "collapsed": false
   }
  },
  {
   "cell_type": "code",
   "execution_count": null,
   "outputs": [],
   "source": [
    "# Создаём шаблон\n",
    "template = \"\"\"\n",
    "Answer the question based only on the following context: {context}\n",
    "\n",
    "Question: {question}\n",
    "\"\"\""
   ],
   "metadata": {
    "collapsed": false,
    "pycharm": {
     "name": "#%%\n"
    }
   }
  },
  {
   "cell_type": "code",
   "execution_count": null,
   "outputs": [],
   "source": [
    "# Создаём промпт из шаблона\n",
    "prompt = PromptTemplate(template=template, input_variables=[\"question\"])\n",
    "\n",
    "# Объявляем функцию, которая будет собирать строку из полученных документов\n",
    "def format_docs(docs):\n",
    "    return \"\\n\\n\".join([d.page_content for d in docs])"
   ],
   "metadata": {
    "collapsed": false,
    "pycharm": {
     "name": "#%%\n"
    }
   }
  },
  {
   "cell_type": "code",
   "execution_count": null,
   "outputs": [],
   "source": [
    "# Задаем ретривер\n",
    "retriever = db.as_retriever()\n",
    "\n",
    "# Функция для генерации дополнительных вопросов\n",
    "def generate_subquestion(question_and_answer):\n",
    "    main_answer = chain.invoke(f\"Посмотри на вопрос и на ответ на него, дополни ответ и напиши его мне. {question_and_answer}\")\n",
    "    return main_answer\n",
    "\n",
    "# Создаём цепочку\n",
    "chain = (\n",
    "    {\"context\": retriever | format_docs, \"question\": RunnablePassthrough()}\n",
    "    | prompt\n",
    "    | llm\n",
    "    | StrOutputParser()\n",
    ")"
   ],
   "metadata": {
    "collapsed": false,
    "pycharm": {
     "name": "#%%\n"
    }
   }
  },
  {
   "cell_type": "code",
   "execution_count": null,
   "outputs": [],
   "source": [
    "question = \"необходимо ли проводить оценку состояния безопасности ОКИИ по новой методике ФСТЭК России, если у Субъекта КИИ отсутствуют ЗОКИИ?\"\n",
    "answer = chain.invoke(question)\n",
    "main_answer = generate_subquestion(f\"{question} {answer}\")\n",
    "\n",
    "print(main_answer)"
   ],
   "metadata": {
    "collapsed": false,
    "pycharm": {
     "name": "#%%\n"
    }
   }
  },
  {
   "cell_type": "code",
   "execution_count": null,
   "outputs": [],
   "source": [
    "# Загружаем и разбиваем документ\n",
    "loader = PyPDFLoader(\"/content/drive/MyDrive/GigaChat_doc/Приказ ФСТЭК России от 25 декабря 2017 г. N 239.pdf\")\n",
    "documents = loader.load()\n",
    "text_splitter = RecursiveCharacterTextSplitter(\n",
    "    chunk_size=1000,\n",
    "    chunk_overlap=200,\n",
    ")\n",
    "split_doc = text_splitter.split_documents(documents)\n",
    "print(f\"Total documents: {len(documents)}\")"
   ],
   "metadata": {
    "collapsed": false,
    "pycharm": {
     "name": "#%%\n"
    }
   }
  },
  {
   "cell_type": "code",
   "execution_count": 5,
   "metadata": {},
   "outputs": [],
   "source": [
    "# Загружаем и разбиваем документ\n",
    "loader = PyPDFLoader(\"/content/drive/MyDrive/GigaChat_doc/Приказ ФСТЭК России от 25 декабря 2017 г. N 239.pdf\")\n",
    "documents = loader.load()\n",
    "text_splitter = RecursiveCharacterTextSplitter(\n",
    "    chunk_size=1000,\n",
    "    chunk_overlap=200,\n",
    ")\n",
    "split_doc = text_splitter.split_documents(documents)\n",
    "print(f\"Total documents: {len(documents)}\")"
   ]
  },
  {
   "cell_type": "code",
   "execution_count": 20,
   "metadata": {},
   "outputs": [],
   "source": [
    "def get_pdf_text(pdf_docs):\n",
    "  reader = PdfReader(pdf_file)\n",
    "  text = \"\"\n",
    "  for page in reader.pages:\n",
    "    text += page.extract_text()\n",
    "  return text\n",
    "\n",
    "def get_text_chunks(text):\n",
    "    text_splitter = RecursiveCharacterTextSplitter(chunk_size=1000, chunk_overlap=200)\n",
    "    chunks = text_splitter.split_text(text)\n",
    "    return chunks"
   ]
  },
  {
   "cell_type": "code",
   "execution_count": 21,
   "metadata": {},
   "outputs": [],
   "source": [
    "pdf_file = \"fstek239.pdf\"\n",
    "load = get_pdf_text(pdf_file)"
   ]
  },
  {
   "cell_type": "code",
   "execution_count": 22,
   "metadata": {},
   "outputs": [],
   "source": [
    "chunk = get_text_chunks(load)"
   ]
  },
  {
   "cell_type": "code",
   "execution_count": 23,
   "metadata": {},
   "outputs": [
    {
     "name": "stdout",
     "output_type": "stream",
     "text": [
      "Total documents: 100\n"
     ]
    }
   ],
   "source": [
    "print(f\"Total documents: {len(chunk)}\")"
   ]
  },
  {
   "cell_type": "code",
   "execution_count": 24,
   "metadata": {},
   "outputs": [],
   "source": [
    "\n",
    "from langchain_community.embeddings import HuggingFaceEmbeddings\n",
    "from langchain_community.vectorstores import FAISS"
   ]
  },
  {
   "cell_type": "code",
   "execution_count": 25,
   "metadata": {},
   "outputs": [
    {
     "name": "stderr",
     "output_type": "stream",
     "text": [
      "c:\\users\\professional\\pycharmprojects\\gigachain\\venv\\lib\\site-packages\\transformers\\tokenization_utils_base.py:1601: FutureWarning: `clean_up_tokenization_spaces` was not set. It will be set to `True` by default. This behavior will be depracted in transformers v4.45, and will be then set to `False` by default. For more details check this issue: https://github.com/huggingface/transformers/issues/31884\n",
      "  warnings.warn(\n"
     ]
    }
   ],
   "source": [
    "# Если у вас нет видеокарты, укажите 'device': 'cpu'\n",
    "hf_embeddings_model = HuggingFaceEmbeddings(\n",
    "        model_name=\"cointegrated/LaBSE-en-ru\",\n",
    "        model_kwargs={\"device\": \"cpu\"}\n",
    "    )\n",
    "\n",
    "# Создаем FAISS индекс (базу векторов) с полученными эмбеддингами\n",
    "db = FAISS.from_texts(chunk, hf_embeddings_model)"
   ]
  },
  {
   "cell_type": "code",
   "execution_count": 26,
   "metadata": {},
   "outputs": [],
   "source": [
    "\n",
    "from langchain.prompts import PromptTemplate\n",
    "from langchain_core.runnables import RunnablePassthrough\n",
    "from langchain.schema import StrOutputParser\n",
    "import re"
   ]
  },
  {
   "cell_type": "code",
   "execution_count": 27,
   "metadata": {},
   "outputs": [],
   "source": [
    "# Создаём простой шаблон\n",
    "template = \"\"\"\n",
    "Answer the question based only on the following context: {context}\n",
    "\n",
    "Question: {question}\n",
    "\"\"\""
   ]
  },
  {
   "cell_type": "code",
   "execution_count": 28,
   "metadata": {},
   "outputs": [],
   "source": [
    "# Создаём промпт из шаблона\n",
    "prompt = PromptTemplate(template=template, input_variables=[\"question\"])\n",
    "\n",
    "# Объявляем функцию, которая будет собирать строку из полученных документов\n",
    "def format_docs(docs):\n",
    "    return \"\\n\\n\".join([d.page_content for d in docs])\n"
   ]
  },
  {
   "cell_type": "code",
   "execution_count": 29,
   "metadata": {},
   "outputs": [],
   "source": [
    "# Задаем ретривер\n",
    "retriever=db.as_retriever()\n",
    "\n",
    "# Создаём цепочку\n",
    "chain = (\n",
    "    {\"context\": retriever | format_docs, \"question\": RunnablePassthrough()}\n",
    "    | prompt\n",
    "    | llm\n",
    "    | StrOutputParser()\n",
    ")\n",
    "    "
   ]
  },
  {
   "cell_type": "code",
   "execution_count": 31,
   "metadata": {},
   "outputs": [
    {
     "name": "stdout",
     "output_type": "stream",
     "text": [
      "Если установка наложенных средств защиты информации (СрЗИ) невозможна, то необходимо выполнить следующие требования приказа ФСТЭК России № 239:\n",
      "\n",
      "1. Обеспечить безопасность значимого объекта в ходе его эксплуатации. Это включает планирование мероприятий по обеспечению безопасности, анализ угроз безопасности информации, а также реализацию других мер, предусмотренных приказом.\n",
      "\n",
      "2. Организовать разработку рабочей (эксплуатационной) документации на значимый объект. Эта документация должна содержать описание архитектуры подсистемы безопасности, порядок и параметры настройки программных и программно-аппаратных средств, включая средства защиты информации.\n",
      "\n",
      "3. При проведении приемочных испытаний значимого объекта и его подсистемы безопасности следует руководствоваться программой и методикой приемочных испытаний. Результаты этих испытаний должны быть включены в акт приемки значимого объекта в эксплуатацию.\n",
      "\n",
      "4. Если значимый объект является государственной информационной системой, то оценка его безопасности может проводиться в форме аттестации значимого объекта в соответствии с Требованиями о защите информации, не составляющей государственную тайну, содержащейся в государственных информационных системах, утвержденными приказом ФСТЭК России от 11 февраля 2013 г. № 17.\n"
     ]
    }
   ],
   "source": [
    "message = chain.invoke(\"В составе ЗОКИИ имеется котельная, состоящая из ПЛК и АРМ. Каким образом необходимо выполнять требования приказа ФСТЭК России № 239, если установка наложенных СрЗИ невозможна?\")\n",
    "print(message)"
   ]
  },
  {
   "cell_type": "markdown",
   "metadata": {},
   "source": [
    "## Пример ответа модели с уточняющим вопросом после ответа"
   ]
  },
  {
   "cell_type": "code",
   "execution_count": 33,
   "metadata": {},
   "outputs": [],
   "source": [
    "# Создаём шаблон\n",
    "template = \"\"\"\n",
    "Answer the question based only on the following context: {context}\n",
    "\n",
    "Question: {question}\n",
    "\"\"\""
   ]
  },
  {
   "cell_type": "code",
   "execution_count": 34,
   "metadata": {},
   "outputs": [],
   "source": [
    "# Создаём промпт из шаблона\n",
    "prompt = PromptTemplate(template=template, input_variables=[\"question\"])\n",
    "\n",
    "# Объявляем функцию, которая будет собирать строку из полученных документов\n",
    "def format_docs(docs):\n",
    "    return \"\\n\\n\".join([d.page_content for d in docs])"
   ]
  },
  {
   "cell_type": "code",
   "execution_count": 35,
   "metadata": {},
   "outputs": [],
   "source": [
    "# Задаем ретривер\n",
    "retriever = db.as_retriever()\n",
    "\n",
    "# Функция для генерации дополнительных вопросов\n",
    "def generate_subquestion(question_and_answer):\n",
    "    main_answer = chain.invoke(f\"Посмотри на вопрос и на ответ на него, дополни ответ и напиши его мне. {question_and_answer}\")\n",
    "    return main_answer\n",
    "\n",
    "# Создаём цепочку\n",
    "chain = (\n",
    "    {\"context\": retriever | format_docs, \"question\": RunnablePassthrough()}\n",
    "    | prompt\n",
    "    | llm\n",
    "    | StrOutputParser()\n",
    ")"
   ]
  },
  {
   "cell_type": "code",
   "execution_count": 44,
   "metadata": {},
   "outputs": [
    {
     "name": "stdout",
     "output_type": "stream",
     "text": [
      "Исходя из представленного контекста, можно сделать вывод, что проведение оценки состояния безопасности ОКИИ по новой методике ФСТЭК России не требуется, если у Субъекта КИИ отсутствуют ЗОКИИ.\n"
     ]
    }
   ],
   "source": [
    "question = \"необходимо ли проводить оценку состояния безопасности ОКИИ по новой методике ФСТЭК России, если у Субъекта КИИ отсутствуют ЗОКИИ?\"\n",
    "answer = chain.invoke(question)\n",
    "main_answer = generate_subquestion(f\"{question} {answer}\")\n",
    "\n",
    "print(main_answer)"
   ]
  },
  {
   "cell_type": "code",
   "execution_count": null,
   "metadata": {},
   "outputs": [],
   "source": [
    "# Загружаем и разбиваем документ\n",
    "loader = PyPDFLoader(\"/content/drive/MyDrive/GigaChat_doc/Приказ ФСТЭК России от 25 декабря 2017 г. N 239.pdf\")\n",
    "documents = loader.load()\n",
    "text_splitter = RecursiveCharacterTextSplitter(\n",
    "    chunk_size=1000,\n",
    "    chunk_overlap=200,\n",
    ")\n",
    "split_doc = text_splitter.split_documents(documents)\n",
    "print(f\"Total documents: {len(documents)}\")"
   ]
  }
 ],
 "metadata": {
  "kernelspec": {
   "display_name": "Python 3 (ipykernel)",
   "language": "python",
   "name": "python3"
  },
  "language_info": {
   "codemirror_mode": {
    "name": "ipython",
    "version": 3
   },
   "file_extension": ".py",
   "mimetype": "text/x-python",
   "name": "python",
   "nbconvert_exporter": "python",
   "pygments_lexer": "ipython3",
   "version": "3.9.12"
  }
 },
 "nbformat": 4,
 "nbformat_minor": 4
}
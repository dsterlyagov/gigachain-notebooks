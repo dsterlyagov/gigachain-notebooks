{
 "cells": [
  {
   "cell_type": "code",
   "execution_count": 1,
   "metadata": {},
   "outputs": [],
   "source": [
    "#!pip install yt-dlp"
   ]
  },
  {
   "cell_type": "code",
   "execution_count": 2,
   "metadata": {},
   "outputs": [
    {
     "name": "stdout",
     "output_type": "stream",
     "text": [
      "[youtube] Extracting URL: https://www.youtube.com/watch?v=Wh5Ya6UFG1k\n",
      "[youtube] Wh5Ya6UFG1k: Downloading webpage\n",
      "[youtube] Wh5Ya6UFG1k: Downloading ios player API JSON\n",
      "[youtube] Wh5Ya6UFG1k: Downloading web creator player API JSON\n",
      "[youtube] Wh5Ya6UFG1k: Downloading player a9d81eca\n",
      "[youtube] Wh5Ya6UFG1k: Downloading m3u8 information\n",
      "[info] Wh5Ya6UFG1k: Downloading 1 format(s): 18\n",
      "[download] Destination: C:\\Users\\Professional\\PycharmProjects\\gigachain\\Интервью по System Design. Александр Поломодов (Тинькофф).mp4\n",
      "[download] 100% of  179.81MiB in 00:00:43 at 4.13MiB/s      \n"
     ]
    }
   ],
   "source": [
    "import yt_dlp\n",
    "# Ссылка на видео\n",
    "video_url = 'https://www.youtube.com/watch?v=Wh5Ya6UFG1k'\n",
    "#C:\\Users\\Professional\\PycharmProjects\\gigachain\n",
    "# Настройки для загрузки\n",
    "ydl_opts = {\n",
    "    'format': 'best',  # Загружать видео в лучшем доступном качестве\n",
    "    'outtmpl': 'C:/Users/Professional/PycharmProjects/gigachain/%(title)s.%(ext)s',  # Шаблон имени файла\n",
    "    'user-agent': 'Mozilla/5.0 (Windows NT 10.0; Win64; x64) AppleWebKit/537.36 (KHTML, like Gecko) Chrome/58.0.3029.110 Safari/537.36',\n",
    "    'socket_timeout': 60,\n",
    "    'proxy': 'socks5://127.0.0.1:1080',\n",
    "   \n",
    "\n",
    "}\n",
    "\n",
    "# Скачиваем видео\n",
    "with yt_dlp.YoutubeDL(ydl_opts) as ydl:\n",
    "    ydl.download([video_url])"
   ]
  },
  {
   "cell_type": "code",
   "execution_count": 3,
   "metadata": {},
   "outputs": [
    {
     "name": "stderr",
     "output_type": "stream",
     "text": [
      "c:\\users\\professional\\pycharmprojects\\gigachain\\venv\\lib\\site-packages\\whisper\\__init__.py:146: FutureWarning: You are using `torch.load` with `weights_only=False` (the current default value), which uses the default pickle module implicitly. It is possible to construct malicious pickle data which will execute arbitrary code during unpickling (See https://github.com/pytorch/pytorch/blob/main/SECURITY.md#untrusted-models for more details). In a future release, the default value for `weights_only` will be flipped to `True`. This limits the functions that could be executed during unpickling. Arbitrary objects will no longer be allowed to be loaded via this mode unless they are explicitly allowlisted by the user via `torch.serialization.add_safe_globals`. We recommend you start setting `weights_only=True` for any use case where you don't have full control of the loaded file. Please open an issue on GitHub for any issues related to this experimental feature.\n",
      "  checkpoint = torch.load(fp, map_location=device)\n"
     ]
    }
   ],
   "source": [
    "import whisper\n",
    "model = whisper.load_model(\"base\")"
   ]
  },
  {
   "cell_type": "code",
   "execution_count": 5,
   "metadata": {},
   "outputs": [],
   "source": [
    "from moviepy.editor import VideoFileClip\n",
    "from glob import glob"
   ]
  },
  {
   "cell_type": "code",
   "execution_count": 6,
   "metadata": {},
   "outputs": [
    {
     "name": "stdout",
     "output_type": "stream",
     "text": [
      "MoviePy - Writing audio in Интервью по System Design. Александр Поломодов (Тинькофф).wav\n"
     ]
    },
    {
     "name": "stderr",
     "output_type": "stream",
     "text": [
      "                                                                          "
     ]
    },
    {
     "name": "stdout",
     "output_type": "stream",
     "text": [
      "MoviePy - Done.\n"
     ]
    },
    {
     "name": "stderr",
     "output_type": "stream",
     "text": [
      "\r"
     ]
    }
   ],
   "source": [
    "#videos = glob('*.mp4')\n",
    "video = \"Интервью по System Design. Александр Поломодов (Тинькофф).mp4\"\n",
    "vid = VideoFileClip(video)\n",
    "audio = video[:-3] + 'wav'\n",
    "vid.audio.write_audiofile(audio)\n"
   ]
  },
  {
   "cell_type": "code",
   "execution_count": null,
   "metadata": {},
   "outputs": [],
   "source": [
    "audio_output = \"Интервью по System Design. Александр Поломодов (Тинькофф).wav\"\n",
    "result = model.transcribe(audio_output)\n",
    "\n",
    "with open(\"system_design_1.txt\", \"w\",  encoding='utf-8') as f:\n",
    "    f.write(result[\"text\"])"
   ]
  }
 ],
 "metadata": {
  "kernelspec": {
   "display_name": "Python 3 (ipykernel)",
   "language": "python",
   "name": "python3"
  },
  "language_info": {
   "codemirror_mode": {
    "name": "ipython",
    "version": 3
   },
   "file_extension": ".py",
   "mimetype": "text/x-python",
   "name": "python",
   "nbconvert_exporter": "python",
   "pygments_lexer": "ipython3",
   "version": "3.9.12"
  }
 },
 "nbformat": 4,
 "nbformat_minor": 4
}
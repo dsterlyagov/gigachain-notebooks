{
 "cells": [
  {
   "cell_type": "code",
   "execution_count": 1,
   "metadata": {},
   "outputs": [],
   "source": [
    "from langchain_community.document_loaders import UnstructuredPDFLoader\n",
    "from langchain.text_splitter import RecursiveCharacterTextSplitter"
   ]
  },
  {
   "cell_type": "code",
   "execution_count": null,
   "outputs": [],
   "source": [
    "text_splitter = RecursiveCharacterTextSplitter(chunk_size=1000, chunk_overlap=100)"
   ],
   "metadata": {
    "collapsed": false,
    "pycharm": {
     "name": "#%%\n"
    }
   }
  },
  {
   "cell_type": "code",
   "execution_count": null,
   "outputs": [],
   "source": [
    "pdf_file = 'microservices.pdf'\n",
    "#loader = UnstructuredPDFLoader(pdf_file)"
   ],
   "metadata": {
    "collapsed": false,
    "pycharm": {
     "name": "#%%\n"
    }
   }
  },
  {
   "cell_type": "code",
   "execution_count": null,
   "outputs": [],
   "source": [
    "from PyPDF2 import PdfReader\n",
    "\n",
    "'''reader = PdfReader(pdf_file)\n",
    "text = \"\"\n",
    "for page in reader.pages:\n",
    "    text += page.extract_text()\n",
    "print(text)\n",
    "'''"
   ],
   "metadata": {
    "collapsed": false,
    "pycharm": {
     "name": "#%%\n"
    }
   }
  },
  {
   "cell_type": "code",
   "execution_count": null,
   "outputs": [],
   "source": [
    "def get_pdf_text(pdf_docs):\n",
    "  reader = PdfReader(pdf_file)\n",
    "  text = \"\"\n",
    "  for page in reader.pages:\n",
    "    text += page.extract_text()\n",
    "  return text\n",
    "\n",
    "def get_text_chunks(text):\n",
    "    text_splitter = RecursiveCharacterTextSplitter(chunk_size=500, chunk_overlap=100)\n",
    "    chunks = text_splitter.split_text(text)\n",
    "    return chunks"
   ],
   "metadata": {
    "collapsed": false,
    "pycharm": {
     "name": "#%%\n"
    }
   }
  },
  {
   "cell_type": "code",
   "execution_count": null,
   "outputs": [],
   "source": [
    "load = get_pdf_text(pdf_file)"
   ],
   "metadata": {
    "collapsed": false,
    "pycharm": {
     "name": "#%%\n"
    }
   }
  },
  {
   "cell_type": "code",
   "execution_count": null,
   "outputs": [],
   "source": [
    "chunk = get_text_chunks(load)"
   ],
   "metadata": {
    "collapsed": false,
    "pycharm": {
     "name": "#%%\n"
    }
   }
  },
  {
   "cell_type": "code",
   "execution_count": null,
   "outputs": [],
   "source": [
    "chunk[1]"
   ],
   "metadata": {
    "collapsed": false,
    "pycharm": {
     "name": "#%%\n"
    }
   }
  },
  {
   "cell_type": "code",
   "execution_count": null,
   "outputs": [],
   "source": [
    "from langchain.embeddings import HuggingFaceEmbeddings\n",
    "from langchain.vectorstores.faiss import FAISS"
   ],
   "metadata": {
    "collapsed": false,
    "pycharm": {
     "name": "#%%\n"
    }
   }
  },
  {
   "cell_type": "code",
   "execution_count": null,
   "outputs": [],
   "source": [
    "%%time\n",
    "model_name = \"sentence-transformers/paraphrase-multilingual-mpnet-base-v2\"\n",
    "model_kwargs = {'device': 'cpu'}\n",
    "encode_kwargs = {'normalize_embeddings': False}\n",
    "embedding = HuggingFaceEmbeddings(model_name=model_name,\n",
    "                                  model_kwargs=model_kwargs,\n",
    "                                  encode_kwargs=encode_kwargs)\n",
    "\n",
    "vector_store = FAISS.from_texts(chunk, embedding=embedding)"
   ],
   "metadata": {
    "collapsed": false,
    "pycharm": {
     "name": "#%%\n"
    }
   }
  },
  {
   "cell_type": "code",
   "execution_count": null,
   "outputs": [],
   "source": [
    "#!pip install sentence-transformers\n",
    "!pip install faiss-cpu"
   ],
   "metadata": {
    "collapsed": false,
    "pycharm": {
     "name": "#%%\n"
    }
   }
  },
  {
   "cell_type": "code",
   "execution_count": null,
   "outputs": [],
   "source": [
    "q1 = 'Назови самые популярные паттерны разработки микросервисной архитектуры?'\n",
    "vector_store.similarity_search(q1)"
   ],
   "metadata": {
    "collapsed": false,
    "pycharm": {
     "name": "#%%\n"
    }
   }
  },
  {
   "cell_type": "code",
   "execution_count": null,
   "outputs": [],
   "source": [],
   "metadata": {
    "collapsed": false,
    "pycharm": {
     "name": "#%%\n"
    }
   }
  },
  {
   "cell_type": "code",
   "execution_count": 2,
   "metadata": {},
   "outputs": [],
   "source": []
  },
  {
   "cell_type": "code",
   "execution_count": 3,
   "metadata": {},
   "outputs": [],
   "source": [
    "pdf_file = 'microservices.pdf'\n",
    "#loader = UnstructuredPDFLoader(pdf_file)"
   ]
  },
  {
   "cell_type": "code",
   "execution_count": 13,
   "metadata": {},
   "outputs": [
    {
     "data": {
      "text/plain": [
       "'reader = PdfReader(pdf_file)\\ntext = \"\"\\nfor page in reader.pages:\\n    text += page.extract_text()\\nprint(text)\\n'"
      ]
     },
     "execution_count": 13,
     "metadata": {},
     "output_type": "execute_result"
    }
   ],
   "source": [
    "from PyPDF2 import PdfReader\n",
    "\n",
    "'''reader = PdfReader(pdf_file)\n",
    "text = \"\"\n",
    "for page in reader.pages:\n",
    "    text += page.extract_text()\n",
    "print(text)\n",
    "'''"
   ]
  },
  {
   "cell_type": "code",
   "execution_count": 14,
   "metadata": {},
   "outputs": [],
   "source": [
    "def get_pdf_text(pdf_docs):\n",
    "  reader = PdfReader(pdf_file)\n",
    "  text = \"\"\n",
    "  for page in reader.pages:\n",
    "    text += page.extract_text()\n",
    "  return text\n",
    "\n",
    "def get_text_chunks(text):\n",
    "    text_splitter = RecursiveCharacterTextSplitter(chunk_size=500, chunk_overlap=100)\n",
    "    chunks = text_splitter.split_text(text)\n",
    "    return chunks"
   ]
  },
  {
   "cell_type": "code",
   "execution_count": 15,
   "metadata": {},
   "outputs": [],
   "source": [
    "load = get_pdf_text(pdf_file)"
   ]
  },
  {
   "cell_type": "code",
   "execution_count": 16,
   "metadata": {},
   "outputs": [],
   "source": [
    "chunk = get_text_chunks(load)"
   ]
  },
  {
   "cell_type": "code",
   "execution_count": 17,
   "metadata": {},
   "outputs": [
    {
     "data": {
      "text/plain": [
       "'/uni0421/uni044D/uni043C /uni041D /uni044C/uni044E/uni043C/uni0435 /uni043D\\n2023/uni0421/uni043E/uni0437/uni0434/uni0430/uni043D/uni0438/uni0435 \\n/uni043C/uni0438/uni043A/uni0440/uni043E/uni0441/uni0435/uni0440/uni0432/uni0438/uni0441/uni043E/uni0432 \\n2-/uni0435 /uni0438/uni0437/uni0434 /uni0430/uni043D/uni0438/uni0435ББК 32.988.02-018\\nУДК 004.738.5\\nН93\\n\\t Ньюмен\\tСэм\\nН93  Создание микросервисов. 2-е изд. — СПб.: Питер, 2023. — 624 с.: ил. — (Се -\\nрия «Бестселлеры O’Reilly»).'"
      ]
     },
     "execution_count": 17,
     "metadata": {},
     "output_type": "execute_result"
    }
   ],
   "source": [
    "chunk[1]"
   ]
  },
  {
   "cell_type": "code",
   "execution_count": 18,
   "metadata": {},
   "outputs": [],
   "source": [
    "from langchain.embeddings import HuggingFaceEmbeddings\n",
    "from langchain.vectorstores.faiss import FAISS"
   ]
  },
  {
   "cell_type": "code",
   "execution_count": 22,
   "metadata": {},
   "outputs": [
    {
     "name": "stdout",
     "output_type": "stream",
     "text": [
      "CPU times: total: 16min 20s\n",
      "Wall time: 16min 19s\n"
     ]
    }
   ],
   "source": [
    "%%time\n",
    "model_name = \"sentence-transformers/paraphrase-multilingual-mpnet-base-v2\"\n",
    "model_kwargs = {'device': 'cpu'}\n",
    "encode_kwargs = {'normalize_embeddings': False}\n",
    "embedding = HuggingFaceEmbeddings(model_name=model_name,\n",
    "                                  model_kwargs=model_kwargs,\n",
    "                                  encode_kwargs=encode_kwargs)\n",
    "\n",
    "vector_store = FAISS.from_texts(chunk, embedding=embedding)"
   ]
  },
  {
   "cell_type": "code",
   "execution_count": 21,
   "metadata": {},
   "outputs": [
    {
     "name": "stdout",
     "output_type": "stream",
     "text": [
      "Collecting faiss-cpu\n",
      "  Using cached faiss_cpu-1.8.0.post1-cp39-cp39-win_amd64.whl.metadata (3.8 kB)\n",
      "Requirement already satisfied: numpy<2.0,>=1.0 in c:\\users\\professional\\pycharmprojects\\gigachain\\venv\\lib\\site-packages (from faiss-cpu) (1.26.4)\n",
      "Requirement already satisfied: packaging in c:\\users\\professional\\pycharmprojects\\gigachain\\venv\\lib\\site-packages (from faiss-cpu) (24.1)\n",
      "Using cached faiss_cpu-1.8.0.post1-cp39-cp39-win_amd64.whl (14.6 MB)\n",
      "Installing collected packages: faiss-cpu\n",
      "Successfully installed faiss-cpu-1.8.0.post1\n"
     ]
    }
   ],
   "source": [
    "#!pip install sentence-transformers\n",
    "!pip install faiss-cpu"
   ]
  },
  {
   "cell_type": "code",
   "execution_count": 23,
   "metadata": {},
   "outputs": [
    {
     "data": {
      "text/plain": [
       "[Document(page_content='сервис-ориентированных взаимодействий. Поскольку микросервисы представля -\\nют собой стиль модульной архитектуры (хотя и с дополнительной сложностью \\nраспределенных систем), можно использовать многие из этих оригинальных \\nконцепций и применять их в отношении наших систем на основе микросервисов.\\nУРОВЕНЬ ТЕХНИКИ В\\xa0ОБЛАСТИ СТРУКТУРИРОВАННОГО ПРОГРАММИРОВАНИЯ\\nБольшая часть нашей текущей работы в\\xa0области вычислительной техники опирается на предыдущую.'),\n",
       " Document(page_content='изменения в функциональность системы, не требуя преобразований других \\nмодулей. Кроме того, их можно комбинировать различными способами для \\nобеспечения новых возможностей.\\nЭтот список желаемых характеристик прекрасно дополняет то, чего мы \\nпытаемся достичь с помощью микросервисных архитектур — и действительно, \\nтеперь я рассматриваю микросервисы просто как еще одну форму модульной \\nархитектуры. Адриан Колер просмотрел ряд работ Дэвида Парнаса и, изучив'),\n",
       " Document(page_content='много компаний, внедряющих архитектуру микросервисов, которые решили, \\nчто это еще и самое удачное время для введения огромного количества новых \\nи непонятных технологий.\\nАрхитектура микросервисов вполне может предоставить возможность  на-\\nписать каждый микросервис на отдельном языке программирования, выполнять \\nего в своей среде или использовать отдельную базу данных, но это возможности, \\nа не требования. Необходимо найти баланс масштабности и сложности исполь -'),\n",
       " Document(page_content='системы, а уже затем на технологиях для их решения.\\nТем не менее технологии сыграли большую роль в принятии микросервисов \\nкак концепции. Понимание доступных инструментов позволит вам получить \\nмаксимальную отдачу от этой архитектуры и станет ключевым фактором \\nуспеха любой реализации микросервисов. В целом я бы сказал, что микросер -\\nвисы требуют четкого понимания различий между логической и физической \\nархитектурой.\\nМы подробно поговорим об этом в последующих главах, но для начала да -')]"
      ]
     },
     "execution_count": 23,
     "metadata": {},
     "output_type": "execute_result"
    }
   ],
   "source": [
    "q1 = 'Назови самые популярные паттерны разработки микросервисной архитектуры?'\n",
    "vector_store.similarity_search(q1)"
   ]
  },
  {
   "cell_type": "code",
   "execution_count": null,
   "metadata": {},
   "outputs": [],
   "source": []
  }
 ],
 "metadata": {
  "kernelspec": {
   "display_name": "Python 3 (ipykernel)",
   "language": "python",
   "name": "python3"
  },
  "language_info": {
   "codemirror_mode": {
    "name": "ipython",
    "version": 3
   },
   "file_extension": ".py",
   "mimetype": "text/x-python",
   "name": "python",
   "nbconvert_exporter": "python",
   "pygments_lexer": "ipython3",
   "version": "3.9.12"
  }
 },
 "nbformat": 4,
 "nbformat_minor": 4
}